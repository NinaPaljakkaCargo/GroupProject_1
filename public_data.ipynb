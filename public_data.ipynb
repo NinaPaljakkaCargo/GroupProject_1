{
 "metadata": {
  "language_info": {
   "codemirror_mode": {
    "name": "ipython",
    "version": 3
   },
   "file_extension": ".py",
   "mimetype": "text/x-python",
   "name": "python",
   "nbconvert_exporter": "python",
   "pygments_lexer": "ipython3",
   "version": "3.8.5-final"
  },
  "orig_nbformat": 2,
  "kernelspec": {
   "name": "python3",
   "display_name": "Python 3.8.5 64-bit ('base': conda)",
   "metadata": {
    "interpreter": {
     "hash": "dc7d0af18ce639f8f790cddf21347ad1ea8f8836734ea05e44121f7d0d344c96"
    }
   }
  }
 },
 "nbformat": 4,
 "nbformat_minor": 2,
 "cells": [
  {
   "cell_type": "code",
   "execution_count": 12,
   "metadata": {},
   "outputs": [],
   "source": [
    "import matplotlib.pyplot as plt\n",
    "import pandas as pd\n",
    "import scipy.stats as st\n",
    "import numpy as np"
   ]
  },
  {
   "cell_type": "code",
   "execution_count": 13,
   "metadata": {},
   "outputs": [],
   "source": [
    "pub_data_path = 'FluViewPhase2Data (2)/WHO_NREVSS_Public_Health_Labs.csv'\n",
    "pub_data = pd.read_csv(pub_data_path, skiprows = 1)"
   ]
  },
  {
   "cell_type": "code",
   "execution_count": 15,
   "metadata": {},
   "outputs": [
    {
     "output_type": "execute_result",
     "data": {
      "text/plain": [
       "  REGION TYPE      REGION SEASON_DESCRIPTION TOTAL SPECIMENS A (2009 H1N1)  \\\n",
       "0      States     Alabama     Season 2016-17             570             3   \n",
       "1      States      Alaska     Season 2016-17            5222            14   \n",
       "2      States     Arizona     Season 2016-17            2975            63   \n",
       "3      States    Arkansas     Season 2016-17             121             0   \n",
       "4      States  California     Season 2016-17           14074           184   \n",
       "\n",
       "  A (H3) A (Subtyping not Performed)    B BVic BYam H3N2v  \n",
       "0    227                           1    2   15   14     0  \n",
       "1    905                           3  252    2   11     0  \n",
       "2   1630                           0    5  227  578     0  \n",
       "3     51                           0    0    4    0     0  \n",
       "4   4696                         120  116   28  152     0  "
      ],
      "text/html": "<div>\n<style scoped>\n    .dataframe tbody tr th:only-of-type {\n        vertical-align: middle;\n    }\n\n    .dataframe tbody tr th {\n        vertical-align: top;\n    }\n\n    .dataframe thead th {\n        text-align: right;\n    }\n</style>\n<table border=\"1\" class=\"dataframe\">\n  <thead>\n    <tr style=\"text-align: right;\">\n      <th></th>\n      <th>REGION TYPE</th>\n      <th>REGION</th>\n      <th>SEASON_DESCRIPTION</th>\n      <th>TOTAL SPECIMENS</th>\n      <th>A (2009 H1N1)</th>\n      <th>A (H3)</th>\n      <th>A (Subtyping not Performed)</th>\n      <th>B</th>\n      <th>BVic</th>\n      <th>BYam</th>\n      <th>H3N2v</th>\n    </tr>\n  </thead>\n  <tbody>\n    <tr>\n      <th>0</th>\n      <td>States</td>\n      <td>Alabama</td>\n      <td>Season 2016-17</td>\n      <td>570</td>\n      <td>3</td>\n      <td>227</td>\n      <td>1</td>\n      <td>2</td>\n      <td>15</td>\n      <td>14</td>\n      <td>0</td>\n    </tr>\n    <tr>\n      <th>1</th>\n      <td>States</td>\n      <td>Alaska</td>\n      <td>Season 2016-17</td>\n      <td>5222</td>\n      <td>14</td>\n      <td>905</td>\n      <td>3</td>\n      <td>252</td>\n      <td>2</td>\n      <td>11</td>\n      <td>0</td>\n    </tr>\n    <tr>\n      <th>2</th>\n      <td>States</td>\n      <td>Arizona</td>\n      <td>Season 2016-17</td>\n      <td>2975</td>\n      <td>63</td>\n      <td>1630</td>\n      <td>0</td>\n      <td>5</td>\n      <td>227</td>\n      <td>578</td>\n      <td>0</td>\n    </tr>\n    <tr>\n      <th>3</th>\n      <td>States</td>\n      <td>Arkansas</td>\n      <td>Season 2016-17</td>\n      <td>121</td>\n      <td>0</td>\n      <td>51</td>\n      <td>0</td>\n      <td>0</td>\n      <td>4</td>\n      <td>0</td>\n      <td>0</td>\n    </tr>\n    <tr>\n      <th>4</th>\n      <td>States</td>\n      <td>California</td>\n      <td>Season 2016-17</td>\n      <td>14074</td>\n      <td>184</td>\n      <td>4696</td>\n      <td>120</td>\n      <td>116</td>\n      <td>28</td>\n      <td>152</td>\n      <td>0</td>\n    </tr>\n  </tbody>\n</table>\n</div>"
     },
     "metadata": {},
     "execution_count": 15
    }
   ],
   "source": [
    "pub_df  = pd.DataFrame(pub_data)\n",
    "pub_df.head()"
   ]
  },
  {
   "cell_type": "code",
   "execution_count": null,
   "metadata": {},
   "outputs": [],
   "source": []
  }
 ]
}