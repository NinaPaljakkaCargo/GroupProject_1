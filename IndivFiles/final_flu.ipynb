{
 "cells": [
  {
   "cell_type": "code",
   "execution_count": 5,
   "metadata": {},
   "outputs": [],
   "source": [
    "#import dependenceis\n",
    "import matplotlib.pyplot as plt\n",
    "import pandas as pd\n",
    "import scipy.stats as st\n",
    "import numpy as np"
   ]
  },
  {
   "cell_type": "code",
   "execution_count": 6,
   "metadata": {},
   "outputs": [],
   "source": [
    "#finalized influenza data\n",
    "#to include clean of ILI data, clean of clinical data, clean of weather data and merge of clinical + weather data"
   ]
  },
  {
   "cell_type": "code",
   "execution_count": 8,
   "metadata": {},
   "outputs": [
    {
     "data": {
      "image/png": "[encoded data removed]",
      "text/plain": [
       "<Figure size 432x288 with 1 Axes>"
      ]
     },
     "metadata": {
      "needs_background": "light"
     },
     "output_type": "display_data"
    }
   ],
   "source": [
    "####clean of ILI data### #(NINA)#\n",
    "\n",
    "ILI_data_path = '../OriginalData/ILINet.csv'\n",
    "ILI_data = pd.read_csv(ILI_data_path, skiprows = 1)\n",
    "ILI_df = pd.DataFrame(ILI_data)\n",
    "\n",
    "#remove null values in full columns\n",
    "ILI_drop = ILI_df.drop(columns = ['NUM. OF PROVIDERS', '% WEIGHTED ILI','AGE 0-4','AGE 25-49', 'AGE 25-64', 'AGE 5-24', 'AGE 50-64','AGE 65'])\n",
    "\n",
    "#remove any rows that contain X\n",
    "ILI_drop2 = ILI_drop[ILI_drop['%UNWEIGHTED ILI'] != 'X']\n",
    "ILI_drop2 = ILI_drop[ILI_drop['ILITOTAL'] != 'X']\n",
    "\n",
    "#convert datatypes of columns to int\n",
    "ILI_drop2 = ILI_drop2[['YEAR', 'WEEK', 'ILITOTAL', 'TOTAL PATIENTS']].astype(int)\n",
    "nxt_ILI = ILI_drop2\n",
    "\n",
    "#clean weeks\n",
    "weeks = nxt_ILI['WEEK']\n",
    "season = []\n",
    "\n",
    "for week in weeks:\n",
    "    if week >= 51:\n",
    "        season.append('WINTER')\n",
    "    elif week >= 38:\n",
    "        season.append('FALL')\n",
    "    elif week >= 25:\n",
    "        season.append('SUMMER')\n",
    "    elif week >= 12:\n",
    "        season.append('SPRING')\n",
    "    elif week >=1:\n",
    "        season.append('WINTER')\n",
    "        \n",
    "nxt_ILI['SEASON'] = season\n",
    "\n",
    "season_df = nxt_ILI.groupby(['SEASON']).sum()['ILITOTAL']\n",
    "season_df.head()\n",
    "\n",
    "#ILI plot\n",
    "plt.bar(season_df.index.values, season_df.values, color='green')\n",
    "plt.xticks(rotation=90)\n",
    "plt.xlabel('Season')\n",
    "plt.ylabel('Influenza-Like-Illnesses (million)')\n",
    "plt.title('Total Influenza-Like-Illness per Season (U.S.)')\n",
    "plt.show()"
   ]
  },
  {
   "cell_type": "code",
   "execution_count": 4,
   "metadata": {},
   "outputs": [],
   "source": [
    "#bring in csv data\n",
    "\n",
    "#view data sources\n",
    "clin_data_path = 'Clinical.csv'\n",
    "\n",
    "#read data sources\n",
    "\n",
    "clin_data = pd.read_csv(clin_data_path)\n",
    "\n",
    "\n",
    "clin = pd.DataFrame(clin_data)"
   ]
  },
  {
   "cell_type": "code",
   "execution_count": null,
   "metadata": {},
   "outputs": [],
   "source": []
  },
  {
   "cell_type": "code",
   "execution_count": 1,
   "metadata": {},
   "outputs": [],
   "source": [
    "#Combine the cleaned data into a single dataset\n",
    "\n",
    "#flu_df = pd.DataFrame.merge(ILI_data, clin_data, how=\"inner\", on=\"YEAR\")\n",
    "\n",
    "#flu_df"
   ]
  },
  {
   "cell_type": "code",
   "execution_count": 29,
   "metadata": {},
   "outputs": [],
   "source": [
    "#ILI df to csv for merge\n",
    "#flu_df.to_csv('flu.csv',index=False)\n"
   ]
  },
  {
   "cell_type": "code",
   "execution_count": null,
   "metadata": {},
   "outputs": [],
   "source": []
  }
 ],
 "metadata": {
  "kernelspec": {
   "display_name": "Python [conda env:root]",
   "language": "python",
   "name": "conda-root-py"
  },
  "language_info": {
   "codemirror_mode": {
    "name": "ipython",
    "version": 3
   },
   "file_extension": ".py",
   "mimetype": "text/x-python",
   "name": "python",
   "nbconvert_exporter": "python",
   "pygments_lexer": "ipython3",
   "version": "3.8.5"
  }
 },
 "nbformat": 4,
 "nbformat_minor": 4
}
