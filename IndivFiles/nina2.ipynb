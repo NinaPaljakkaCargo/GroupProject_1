{
 "cells": [
  {
   "cell_type": "code",
   "execution_count": 5,
   "metadata": {},
   "outputs": [],
   "source": [
    "#import dependenceis\n",
    "import matplotlib.pyplot as plt\n",
    "import pandas as pd\n",
    "import scipy.stats as st\n",
    "import numpy as np"
   ]
  },
  {
   "cell_type": "code",
   "execution_count": 6,
   "metadata": {},
   "outputs": [],
   "source": [
    "#view data sources\n",
    "ILI_data_path = '../OriginalData/ILINet.csv'\n",
    "clin_data_path = '../OriginalData/WHO_NREVSS_Clinical_Labs.csv'\n",
    "#pub_data_path = 'FluViewPhase2Data (2)/WHO_NREVSS_Public_Health_Labs.csv'\n",
    "\n",
    "#read data sources\n",
    "ILI_data = pd.read_csv(ILI_data_path, skiprows = 1)\n",
    "clin_data = pd.read_csv(clin_data_path)\n",
    "#pub_data = pd.read_csv(pub_data_path)\n"
   ]
  },
  {
   "cell_type": "code",
   "execution_count": 10,
   "metadata": {
    "scrolled": true
   },
   "outputs": [
    {
     "data": {
      "text/html": [
       "<div>\n",
       "<style scoped>\n",
       "    .dataframe tbody tr th:only-of-type {\n",
       "        vertical-align: middle;\n",
       "    }\n",
       "\n",
       "    .dataframe tbody tr th {\n",
       "        vertical-align: top;\n",
       "    }\n",
       "\n",
       "    .dataframe thead th {\n",
       "        text-align: right;\n",
       "    }\n",
       "</style>\n",
       "<table border=\"1\" class=\"dataframe\">\n",
       "  <thead>\n",
       "    <tr style=\"text-align: right;\">\n",
       "      <th></th>\n",
       "      <th>YEAR</th>\n",
       "      <th>WEEK</th>\n",
       "      <th>ILITOTAL</th>\n",
       "      <th>TOTAL PATIENTS</th>\n",
       "    </tr>\n",
       "  </thead>\n",
       "  <tbody>\n",
       "    <tr>\n",
       "      <th>0</th>\n",
       "      <td>2016</td>\n",
       "      <td>40</td>\n",
       "      <td>169</td>\n",
       "      <td>7599</td>\n",
       "    </tr>\n",
       "    <tr>\n",
       "      <th>1</th>\n",
       "      <td>2016</td>\n",
       "      <td>40</td>\n",
       "      <td>14</td>\n",
       "      <td>1489</td>\n",
       "    </tr>\n",
       "    <tr>\n",
       "      <th>2</th>\n",
       "      <td>2016</td>\n",
       "      <td>40</td>\n",
       "      <td>309</td>\n",
       "      <td>25032</td>\n",
       "    </tr>\n",
       "    <tr>\n",
       "      <th>3</th>\n",
       "      <td>2016</td>\n",
       "      <td>40</td>\n",
       "      <td>40</td>\n",
       "      <td>4360</td>\n",
       "    </tr>\n",
       "    <tr>\n",
       "      <th>4</th>\n",
       "      <td>2016</td>\n",
       "      <td>40</td>\n",
       "      <td>668</td>\n",
       "      <td>53317</td>\n",
       "    </tr>\n",
       "    <tr>\n",
       "      <th>...</th>\n",
       "      <td>...</td>\n",
       "      <td>...</td>\n",
       "      <td>...</td>\n",
       "      <td>...</td>\n",
       "    </tr>\n",
       "    <tr>\n",
       "      <th>11278</th>\n",
       "      <td>2020</td>\n",
       "      <td>39</td>\n",
       "      <td>169</td>\n",
       "      <td>17022</td>\n",
       "    </tr>\n",
       "    <tr>\n",
       "      <th>11279</th>\n",
       "      <td>2020</td>\n",
       "      <td>39</td>\n",
       "      <td>20</td>\n",
       "      <td>1673</td>\n",
       "    </tr>\n",
       "    <tr>\n",
       "      <th>11281</th>\n",
       "      <td>2020</td>\n",
       "      <td>39</td>\n",
       "      <td>79</td>\n",
       "      <td>1664</td>\n",
       "    </tr>\n",
       "    <tr>\n",
       "      <th>11282</th>\n",
       "      <td>2020</td>\n",
       "      <td>39</td>\n",
       "      <td>0</td>\n",
       "      <td>238</td>\n",
       "    </tr>\n",
       "    <tr>\n",
       "      <th>11283</th>\n",
       "      <td>2020</td>\n",
       "      <td>39</td>\n",
       "      <td>648</td>\n",
       "      <td>76539</td>\n",
       "    </tr>\n",
       "  </tbody>\n",
       "</table>\n",
       "<p>11024 rows × 4 columns</p>\n",
       "</div>"
      ],
      "text/plain": [
       "       YEAR  WEEK  ILITOTAL  TOTAL PATIENTS\n",
       "0      2016    40       169            7599\n",
       "1      2016    40        14            1489\n",
       "2      2016    40       309           25032\n",
       "3      2016    40        40            4360\n",
       "4      2016    40       668           53317\n",
       "...     ...   ...       ...             ...\n",
       "11278  2020    39       169           17022\n",
       "11279  2020    39        20            1673\n",
       "11281  2020    39        79            1664\n",
       "11282  2020    39         0             238\n",
       "11283  2020    39       648           76539\n",
       "\n",
       "[11024 rows x 4 columns]"
      ]
     },
     "execution_count": 10,
     "metadata": {},
     "output_type": "execute_result"
    }
   ],
   "source": [
    "#view ILI\n",
    "ILI_df = pd.DataFrame(ILI_data)\n",
    "\n",
    "#remove null values in full columns\n",
    "ILI_drop = ILI_df.drop(columns = ['NUM. OF PROVIDERS', '% WEIGHTED ILI','AGE 0-4','AGE 25-49', 'AGE 25-64', 'AGE 5-24', 'AGE 50-64','AGE 65'])\n",
    "\n",
    "#remove any rows that contain X\n",
    "ILI_drop2 = ILI_drop[ILI_drop['%UNWEIGHTED ILI'] != 'X']\n",
    "ILI_drop2 = ILI_drop[ILI_drop['ILITOTAL'] != 'X']\n",
    "#ILI_drop2 = ILI-drop[ILI_drop['TOTAL PATIENTS'] != 'X']\n",
    "\n",
    "\n",
    "#convert datatypes of columns to float\n",
    "ILI_drop2 = ILI_drop2[['YEAR', 'WEEK', 'ILITOTAL', 'TOTAL PATIENTS']].astype(int)\n",
    "\n",
    "\n",
    "#clean ILI\n",
    "nxt_ILI = ILI_drop2\n",
    "\n",
    "nxt_ILI"
   ]
  },
  {
   "cell_type": "code",
   "execution_count": 13,
   "metadata": {},
   "outputs": [
    {
     "name": "stdout",
     "output_type": "stream",
     "text": [
      "5416542\n"
     ]
    }
   ],
   "source": [
    "#clean weeks. . .\n",
    "#Spring - starts the third week of March (month 3) --> March week 3 to June week 2 --> week 12 to week 24\n",
    "\n",
    "weeks = nxt_ILI['WEEK']\n",
    "\n",
    "for week in weeks:\n",
    "    if week <= 24 | week >= 12:\n",
    "        ILI_spring = nxt_ILI['ILITOTAL'].sum()\n",
    "\n",
    "print(ILI_spring)\n",
    "\n",
    "#Summer - starts the third week of June (month 6) --> June week 3 to September week 2 --> week 25 to week 37\n",
    "\n",
    "\n",
    "\n",
    "#Fall - starts the third week of September (month 9) --> September week 3 to December week 2 --> week 38 to week 50\n",
    "#Winter - starts the third week of December (month 12) --> December week 3 to March week 2 --> week 51, 52, and week 1 to week 11"
   ]
  },
  {
   "cell_type": "code",
   "execution_count": 14,
   "metadata": {},
   "outputs": [],
   "source": [
    "#ILI df to csv for merge\n",
    "clean_ILI.to_csv('ILI.csv',index=False)\n"
   ]
  },
  {
   "cell_type": "code",
   "execution_count": null,
   "metadata": {},
   "outputs": [],
   "source": []
  }
 ],
 "metadata": {
  "kernelspec": {
   "display_name": "Python [conda env:root]",
   "language": "python",
   "name": "conda-root-py"
  },
  "language_info": {
   "codemirror_mode": {
    "name": "ipython",
    "version": 3
   },
   "file_extension": ".py",
   "mimetype": "text/x-python",
   "name": "python",
   "nbconvert_exporter": "python",
   "pygments_lexer": "ipython3",
   "version": "3.8.5"
  }
 },
 "nbformat": 4,
 "nbformat_minor": 4
}
